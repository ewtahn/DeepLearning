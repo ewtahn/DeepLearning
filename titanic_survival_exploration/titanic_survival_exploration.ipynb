{
 "cells": [
  {
   "cell_type": "markdown",
   "metadata": {},
   "source": [
    "## 调查数据集\n",
    "将要分析的数据集为titanic_data\n",
    "\n",
    "数据集包括泰坦尼克号上 2224 名乘客和船员中的 891 个乘客的基本信息。\n",
    "\n",
    "数据集来自Kaggle\n",
    "\n",
    "乘客生还率与哪些因素有关系？本次分析将在年龄、性别和舱位等级三个方面进行调查。 \n"
   ]
  },
  {
   "cell_type": "code",
   "execution_count": 43,
   "metadata": {
    "scrolled": true
   },
   "outputs": [
    {
     "name": "stdout",
     "output_type": "stream",
     "text": [
      "<class 'pandas.core.frame.DataFrame'>\n",
      "RangeIndex: 891 entries, 0 to 890\n",
      "Data columns (total 12 columns):\n",
      "PassengerId    891 non-null int64\n",
      "Survived       891 non-null int64\n",
      "Pclass         891 non-null int64\n",
      "Name           891 non-null object\n",
      "Sex            891 non-null object\n",
      "Age            714 non-null float64\n",
      "SibSp          891 non-null int64\n",
      "Parch          891 non-null int64\n",
      "Ticket         891 non-null object\n",
      "Fare           891 non-null float64\n",
      "Cabin          204 non-null object\n",
      "Embarked       889 non-null object\n",
      "dtypes: float64(2), int64(5), object(5)\n",
      "memory usage: 83.6+ KB\n"
     ]
    }
   ],
   "source": [
    "import numpy as np\n",
    "import pandas as pd\n",
    "import matplotlib.pyplot as plot\n",
    "\n",
    " \n",
    "in_file = 'titanic_data.csv'\n",
    "full_data = pd.read_csv(in_file)\n",
    "#full_data.describe()\n",
    "full_data.info()"
   ]
  },
  {
   "cell_type": "markdown",
   "metadata": {},
   "source": [
    "\n",
    "Cabin有较大缺失，但是与我们的分析无关，所以可以删除该列\n"
   ]
  },
  {
   "cell_type": "code",
   "execution_count": 44,
   "metadata": {},
   "outputs": [],
   "source": [
    "full_data = full_data.drop(['Cabin','Embarked'], axis=1)"
   ]
  },
  {
   "cell_type": "markdown",
   "metadata": {},
   "source": [
    "\n",
    "Age缺失较少，可以简单将其舍弃\n"
   ]
  },
  {
   "cell_type": "code",
   "execution_count": 45,
   "metadata": {},
   "outputs": [],
   "source": [
    "full_data=full_data.dropna()"
   ]
  },
  {
   "cell_type": "code",
   "execution_count": 46,
   "metadata": {},
   "outputs": [
    {
     "name": "stdout",
     "output_type": "stream",
     "text": [
      "<class 'pandas.core.frame.DataFrame'>\n",
      "Int64Index: 714 entries, 0 to 890\n",
      "Data columns (total 10 columns):\n",
      "PassengerId    714 non-null int64\n",
      "Survived       714 non-null int64\n",
      "Pclass         714 non-null int64\n",
      "Name           714 non-null object\n",
      "Sex            714 non-null object\n",
      "Age            714 non-null float64\n",
      "SibSp          714 non-null int64\n",
      "Parch          714 non-null int64\n",
      "Ticket         714 non-null object\n",
      "Fare           714 non-null float64\n",
      "dtypes: float64(2), int64(5), object(3)\n",
      "memory usage: 61.4+ KB\n"
     ]
    }
   ],
   "source": [
    "full_data.info()"
   ]
  },
  {
   "cell_type": "markdown",
   "metadata": {},
   "source": [
    "## 年龄因素"
   ]
  },
  {
   "cell_type": "code",
   "execution_count": 47,
   "metadata": {
    "scrolled": true
   },
   "outputs": [
    {
     "data": {
      "image/png": "[encoded data removed]",
      "text/plain": [
       "<matplotlib.figure.Figure at 0x1ba0ffca198>"
      ]
     },
     "metadata": {},
     "output_type": "display_data"
    }
   ],
   "source": [
    "subsection = []\n",
    "survivals = []\n",
    "\n",
    "for i in range (0,8):\n",
    "    subsection.append(full_data.loc[(full_data['Age'] <= (i + 1) * 10) & (full_data['Age'] > i * 10)])\n",
    "for j in range (0,8):\n",
    "    if len(subsection[j]) != 0:\n",
    "        survivals.append(len(subsection[j].loc[full_data['Survived'] == 1])/len(subsection[j]))\n",
    "    else: \n",
    "        survivals.append(0)\n",
    "\n",
    "view = ['0-10', '10-20','20-30', '30-40','40-50','50-60','60-70', '70-80']\n",
    "y_pos = np.arange(len(view))\n",
    "plot.bar(y_pos, survivals)\n",
    "plot.xticks(y_pos, view)\n",
    "plot.xlabel('Age')\n",
    "plot.ylabel('Survive rate')\n",
    "plot.title('Survive rate by age')\n",
    "plot.show()"
   ]
  },
  {
   "cell_type": "code",
   "execution_count": 48,
   "metadata": {},
   "outputs": [
    {
     "data": {
      "image/png": "[encoded data removed]",
      "text/plain": [
       "<matplotlib.figure.Figure at 0x1ba10031f28>"
      ]
     },
     "metadata": {},
     "output_type": "display_data"
    }
   ],
   "source": [
    "full_data.hist(column=\"Age\", bins=range(0,90,10))\n",
    "plot.xlabel(\"Age\")\n",
    "plot.ylabel(\"Frequency\")\n",
    "plot.show()"
   ]
  },
  {
   "cell_type": "markdown",
   "metadata": {},
   "source": [
    "根据生还率与人数分析，0-10岁的生还率最高，60-80的生还率虽然最低，但人数太少，偶然因素更大。所以结论可以认为1-10岁生还率最高，其他年龄段生还率无明显差别"
   ]
  },
  {
   "cell_type": "markdown",
   "metadata": {},
   "source": [
    "## 性别因素"
   ]
  },
  {
   "cell_type": "code",
   "execution_count": 49,
   "metadata": {},
   "outputs": [
    {
     "data": {
      "image/png": "[encoded data removed]",
      "text/plain": [
       "<matplotlib.figure.Figure at 0x1ba100b47b8>"
      ]
     },
     "metadata": {},
     "output_type": "display_data"
    }
   ],
   "source": [
    "survived = full_data.loc[full_data['Survived'] == 1]\n",
    "survived_count = len(survived['Name'])\n",
    "died = full_data.loc[full_data['Survived'] == 0]\n",
    "died_count = len(died['Name'])\n",
    "\n",
    "survived_male = survived.loc[survived['Sex'] == 'male']\n",
    "survived_male_count = len(survived_male['Name'])\n",
    "died_male = died.loc[died['Sex'] == 'male']\n",
    "died_male_count = len(died_male['Name'])\n",
    "\n",
    "survived_female = survived.loc[survived['Sex'] == 'female']\n",
    "survived_female_count = len(survived_female['Name'])\n",
    "died_female = died.loc[died['Sex'] == 'female']\n",
    "died_female_count = len(died_female['Name'])\n",
    "\n",
    "\n",
    "index = np.arange(2)\n",
    "\n",
    "p1 = plot.bar(index, (survived_male_count, survived_female_count))\n",
    "p2 = plot.bar(index, (died_male_count, died_female_count),bottom=(survived_male_count, survived_female_count))\n",
    "plot.title('Survive by Gender')\n",
    "plot.ylabel('Num')\n",
    "plot.xticks(index, ('Male', 'Female'))\n",
    "plot.legend((p1[0], p2[0]), ('Survived', 'Died'))\n",
    "\n",
    "plot.show()"
   ]
  },
  {
   "cell_type": "markdown",
   "metadata": {},
   "source": [
    "显然女性的生还率更高"
   ]
  },
  {
   "cell_type": "markdown",
   "metadata": {},
   "source": [
    "## 船舱等级因素"
   ]
  },
  {
   "cell_type": "code",
   "execution_count": 50,
   "metadata": {},
   "outputs": [
    {
     "data": {
      "image/png": "[encoded data removed]",
      "text/plain": [
       "<matplotlib.figure.Figure at 0x1ba100dcd30>"
      ]
     },
     "metadata": {},
     "output_type": "display_data"
    }
   ],
   "source": [
    "Pclass_1_survived = len(full_data[(full_data['Pclass'] == 1) & (full_data['Survived'] == 1)])\n",
    "Pclass_1_died = len(full_data[(full_data['Pclass'] == 1) & (full_data['Survived'] == 0)])\n",
    "Pclass_2_survived = len(full_data[(full_data['Pclass'] == 2) & (full_data['Survived'] == 1)])\n",
    "Pclass_2_died = len(full_data[(full_data['Pclass'] == 2) & (full_data['Survived'] == 0)])\n",
    "Pclass_3_survived = len(full_data[(full_data['Pclass'] == 3) & (full_data['Survived'] == 1)])\n",
    "Pclass_3_died = len(full_data[(full_data['Pclass'] == 3) & (full_data['Survived'] == 0)])\n",
    "\n",
    "index = np.arange(3)\n",
    "\n",
    "p1 = plot.bar(index, (Pclass_1_survived, Pclass_2_survived, Pclass_3_survived) )\n",
    "p2 = plot.bar(index, (Pclass_1_died    , Pclass_2_died    , Pclass_3_died    ), \n",
    "              bottom=(Pclass_1_survived, Pclass_2_survived, Pclass_3_survived) )\n",
    "\n",
    "plot.ylabel('Count')\n",
    "plot.title('Survivers by Passenger Class')\n",
    "plot.xticks(index, ('Class 1', 'Class 2 ', 'Class 3'))\n",
    "plot.legend((p1[0], p2[0]), ('Survived', 'Died'))\n",
    "\n",
    "plot.show()"
   ]
  },
  {
   "cell_type": "markdown",
   "metadata": {
    "collapsed": true
   },
   "source": [
    "显然一等舱二等舱的旅客比三等舱的旅客拥有更高的生还率"
   ]
  },
  {
   "cell_type": "markdown",
   "metadata": {},
   "source": [
    "## 结论\n",
    "\n",
    "我假设了有三种因素对生还率有影响，年龄、性别、客舱等级。结论是年龄小于10岁的、女性、船舱等级高的人具有更高的生还率。\n",
    "\n",
    "不足之处，比如891的样本是如何抽取的并不清楚。而且数据本身有缺失，舍弃掉相应数据后，使得数据样本数量也减少了。\n",
    " "
   ]
  },
  {
   "cell_type": "code",
   "execution_count": null,
   "metadata": {
    "collapsed": true
   },
   "outputs": [],
   "source": []
  },
  {
   "cell_type": "code",
   "execution_count": null,
   "metadata": {
    "collapsed": true
   },
   "outputs": [],
   "source": []
  }
 ],
 "metadata": {
  "kernelspec": {
   "display_name": "Python 3",
   "language": "python",
   "name": "python3"
  },
  "language_info": {
   "codemirror_mode": {
    "name": "ipython",
    "version": 3
   },
   "file_extension": ".py",
   "mimetype": "text/x-python",
   "name": "python",
   "nbconvert_exporter": "python",
   "pygments_lexer": "ipython3",
   "version": "3.5.2"
  }
 },
 "nbformat": 4,
 "nbformat_minor": 1
}
